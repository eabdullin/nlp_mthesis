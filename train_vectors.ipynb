{
 "cells": [
  {
   "cell_type": "code",
   "execution_count": 11,
   "metadata": {
    "collapsed": false
   },
   "outputs": [
    {
     "name": "stderr",
     "output_type": "stream",
     "text": [
      "Using Theano backend.\n"
     ]
    }
   ],
   "source": [
    "# -*- coding: utf-8 -*-\n",
    "from gensim.models import Word2Vec\n",
    "from gensim.models.word2vec import LineSentence\n",
    "import numpy as np\n",
    "from sklearn.linear_model import Ridge, LinearRegression, Lars, Lasso\n",
    "import gc\n",
    "import io\n",
    "import re\n",
    "import json\n",
    "import scipy.spatial.distance as distance\n",
    "import gensim.utils as utils\n",
    "from six import iteritems\n",
    "from keras.models import Sequential\n",
    "from keras.layers import Dense, Dropout, Activation\n",
    "from keras.optimizers import SGD"
   ]
  },
  {
   "cell_type": "code",
   "execution_count": 2,
   "metadata": {
    "collapsed": true
   },
   "outputs": [],
   "source": [
    "def valid_and_separate(line):\n",
    "    vals = line.split(';')\n",
    "    if len(vals) != 2:\n",
    "        return None\n",
    "    for i in range(2):\n",
    "        v = re.sub(r'[\\.\\,\\%«\"\\)\\(]', '', vals[i]).strip()\n",
    "        if not v:\n",
    "            return None\n",
    "        vals[i] = v\n",
    "    if vals[0] == vals[1]:\n",
    "        return None\n",
    "    return vals\n",
    "\n",
    "\n",
    "def readvocub(filename):\n",
    "    tr = {}\n",
    "    with io.open(filename, 'r', encoding='utf8') as fin:\n",
    "        for line in fin:\n",
    "            vals = valid_and_separate(line)\n",
    "            if vals is None:\n",
    "                continue\n",
    "            tr[vals[0]] = [vals[1]]\n",
    "    fin.close()\n",
    "    return tr"
   ]
  },
  {
   "cell_type": "code",
   "execution_count": 3,
   "metadata": {
    "collapsed": true
   },
   "outputs": [],
   "source": [
    "folder = 'data'\n",
    "\n",
    "source_corpora = folder + '\\\\eng_corpora.txt'\n",
    "source_model_save = folder + '\\\\eng_model'\n",
    "\n",
    "target_corpora = folder + '\\\\rus_corpora.txt'\n",
    "target_model_save = folder + '\\\\rus_model'\n",
    "\n",
    "final_file= folder +'\\\\bilingual.bin'\n",
    "\n",
    "vector_size = 100\n",
    "load_from_file = True"
   ]
  },
  {
   "cell_type": "code",
   "execution_count": 4,
   "metadata": {
    "collapsed": false
   },
   "outputs": [],
   "source": [
    "if load_from_file:\n",
    "    target_model = Word2Vec.load(target_model_save)\n",
    "    # target_model = Word2Vec.load_word2vec_format('E:\\\\NLp\\\\Data\\\\kaz_dataset_size(200).bin', binary=True)\n",
    "else:\n",
    "    print 'Train W2V for target'\n",
    "    sentences = LineSentence(target_corpora)\n",
    "    target_model = Word2Vec(sentences, size=vector_size, window=6, min_count=4, sg=1)\n",
    "    target_model.save(target_model_save)\n",
    "\n",
    "if load_from_file:\n",
    "    source_model = Word2Vec.load(source_model_save)\n",
    "    # source_model = Word2Vec.load_word2vec_format('E:\\\\NLp\\\\Data\\\\rus_dataset2_size(200).bin', binary=True)\n",
    "else:\n",
    "    print 'Train W2V for source'\n",
    "    sentences = LineSentence(source_corpora)\n",
    "    source_model = Word2Vec(sentences, size=vector_size, window=9, min_count=10, sg=1)\n",
    "    source_model.save(source_model_save)"
   ]
  },
  {
   "cell_type": "code",
   "execution_count": 5,
   "metadata": {
    "collapsed": false
   },
   "outputs": [],
   "source": [
    "source2target = {}\n",
    "target2source = {}\n",
    "#load word pairs\n",
    "source2target = readvocub('data\\\\eng_rus_vocab.txt')\n",
    "# target2source = readvocub('E:\\\\Nlp\\\\Data\\\\kazakh_news_vocub_translations.txt')"
   ]
  },
  {
   "cell_type": "code",
   "execution_count": 6,
   "metadata": {
    "collapsed": false
   },
   "outputs": [],
   "source": [
    "#rus-kaz\n",
    "# with io.open('E:\\\\Nlp\\\\Data\\\\en_ru_kaz-dictionary.json','r',encoding='utf8') as file:\n",
    "#     data = json.load(file)\n",
    "#     for t in data[\"Translations\"]:\n",
    "#         index_source = str(t[\"Rus\"])\n",
    "#         index_target = str(t[\"Kaz\"])\n",
    "#         sourceword = data[\"Words\"][index_source][\"Text\"].lower();\n",
    "#         targetword = data[\"Words\"][index_target][\"Text\"].lower();\n",
    "#         if sourceword not in source2target:\n",
    "#             source2target[sourceword] = []\n",
    "#         elif targetword not in source2target[sourceword]:\n",
    "#             source2target[sourceword].append(targetword)\n",
    "#         if targetword not in target2source:\n",
    "#             target2source[targetword] = []\n",
    "#         elif sourceword not in target2source[targetword]:\n",
    "#             target2source[targetword].append(sourceword)"
   ]
  },
  {
   "cell_type": "code",
   "execution_count": 7,
   "metadata": {
    "collapsed": false
   },
   "outputs": [
    {
     "name": "stdout",
     "output_type": "stream",
     "text": [
      "('len of matricies', 94135, 94135)\n"
     ]
    }
   ],
   "source": [
    "sourcematrix=[]\n",
    "targetmatrix=[]\n",
    "cur = 0\n",
    "for w_source in source_model.vocab:\n",
    "    cur += 1\n",
    "    if w_source in source2target:\n",
    "        trans = source2target[w_source]\n",
    "        for w_target in trans:\n",
    "            if w_target in target_model.vocab:\n",
    "                w_source_index = source_model.vocab[w_source].index\n",
    "                w_target_index = target_model.vocab[w_target].index\n",
    "                sourcematrix.append(source_model.syn0[w_source_index])\n",
    "                targetmatrix.append(target_model.syn0[w_target_index])\n",
    "\n",
    "source2target = None\n",
    "target2source = None\n",
    "gc.collect()\n",
    "sourcematrix = np.array(sourcematrix)\n",
    "targetmatrix = np.array(targetmatrix)\n",
    "print('len of matricies', len(sourcematrix), len(targetmatrix))"
   ]
  },
  {
   "cell_type": "code",
   "execution_count": 10,
   "metadata": {
    "collapsed": false
   },
   "outputs": [
    {
     "name": "stdout",
     "output_type": "stream",
     "text": [
      "Start  Ridge\n",
      "avg: 0.61528204812\n",
      "std: 0.135780626879\n",
      "best: 0.960418843684\n",
      "worst: 0.0356565778291\n",
      "loss: 0.462244874494\n"
     ]
    }
   ],
   "source": [
    "r = Ridge(alpha=0.0001,random_state=241)\n",
    "print 'Start ', type(r).__name__ \n",
    "r.fit(sourcematrix, targetmatrix)\n",
    "l = len(sourcematrix)\n",
    "#test\n",
    "distances = np.zeros(l)\n",
    "losses = np.zeros(l-1)\n",
    "x_new = r.predict(sourcematrix)\n",
    "avg = 0\n",
    "for i in xrange(len(x_new)):\n",
    "    dist = 1 - distance.cosine(targetmatrix[i],x_new[i])\n",
    "    distances[i] = dist    \n",
    "for i in xrange(l -1):\n",
    "    dist1 = distance.cosine(sourcematrix[i],sourcematrix[i+1])\n",
    "    dist2 = distance.cosine(x_new[i],x_new[i+1])\n",
    "    losses[i] = dist1 - dist2\n",
    "print 'avg:', distances.mean()\n",
    "print 'std:', distances.std()\n",
    "print 'best:', distances.max()\n",
    "print 'worst:', distances.min()\n",
    "print 'loss:', losses.mean()"
   ]
  },
  {
   "cell_type": "code",
   "execution_count": 16,
   "metadata": {
    "collapsed": false
   },
   "outputs": [
    {
     "name": "stdout",
     "output_type": "stream",
     "text": [
      "Epoch 1/5\n"
     ]
    },
    {
     "ename": "ValueError",
     "evalue": "I/O operation on closed file",
     "traceback": [
      "\u001b[1;31m---------------------------------------------------------------------------\u001b[0m",
      "\u001b[1;31mValueError\u001b[0m                                Traceback (most recent call last)",
      "\u001b[1;32m<ipython-input-16-55d541b503c2>\u001b[0m in \u001b[0;36m<module>\u001b[1;34m()\u001b[0m\n\u001b[0;32m     14\u001b[0m model.fit(sourcematrix, targetmatrix,\n\u001b[0;32m     15\u001b[0m           \u001b[0mnb_epoch\u001b[0m\u001b[1;33m=\u001b[0m\u001b[1;36m5\u001b[0m\u001b[1;33m,\u001b[0m\u001b[1;33m\u001b[0m\u001b[0m\n\u001b[1;32m---> 16\u001b[1;33m           batch_size=16, verbose=1)\n\u001b[0m",
      "\u001b[1;32mC:\\Users\\aelam_000\\Anaconda2\\lib\\site-packages\\keras\\models.pyc\u001b[0m in \u001b[0;36mfit\u001b[1;34m(self, x, y, batch_size, nb_epoch, verbose, callbacks, validation_split, validation_data, shuffle, class_weight, sample_weight, **kwargs)\u001b[0m\n\u001b[0;32m    400\u001b[0m                               \u001b[0mshuffle\u001b[0m\u001b[1;33m=\u001b[0m\u001b[0mshuffle\u001b[0m\u001b[1;33m,\u001b[0m\u001b[1;33m\u001b[0m\u001b[0m\n\u001b[0;32m    401\u001b[0m                               \u001b[0mclass_weight\u001b[0m\u001b[1;33m=\u001b[0m\u001b[0mclass_weight\u001b[0m\u001b[1;33m,\u001b[0m\u001b[1;33m\u001b[0m\u001b[0m\n\u001b[1;32m--> 402\u001b[1;33m                               sample_weight=sample_weight)\n\u001b[0m\u001b[0;32m    403\u001b[0m \u001b[1;33m\u001b[0m\u001b[0m\n\u001b[0;32m    404\u001b[0m     def evaluate(self, x, y, batch_size=32, verbose=1,\n",
      "\u001b[1;32mC:\\Users\\aelam_000\\Anaconda2\\lib\\site-packages\\keras\\engine\\training.pyc\u001b[0m in \u001b[0;36mfit\u001b[1;34m(self, x, y, batch_size, nb_epoch, verbose, callbacks, validation_split, validation_data, shuffle, class_weight, sample_weight)\u001b[0m\n\u001b[0;32m   1034\u001b[0m                               \u001b[0mverbose\u001b[0m\u001b[1;33m=\u001b[0m\u001b[0mverbose\u001b[0m\u001b[1;33m,\u001b[0m \u001b[0mcallbacks\u001b[0m\u001b[1;33m=\u001b[0m\u001b[0mcallbacks\u001b[0m\u001b[1;33m,\u001b[0m\u001b[1;33m\u001b[0m\u001b[0m\n\u001b[0;32m   1035\u001b[0m                               \u001b[0mval_f\u001b[0m\u001b[1;33m=\u001b[0m\u001b[0mval_f\u001b[0m\u001b[1;33m,\u001b[0m \u001b[0mval_ins\u001b[0m\u001b[1;33m=\u001b[0m\u001b[0mval_ins\u001b[0m\u001b[1;33m,\u001b[0m \u001b[0mshuffle\u001b[0m\u001b[1;33m=\u001b[0m\u001b[0mshuffle\u001b[0m\u001b[1;33m,\u001b[0m\u001b[1;33m\u001b[0m\u001b[0m\n\u001b[1;32m-> 1036\u001b[1;33m                               callback_metrics=callback_metrics)\n\u001b[0m\u001b[0;32m   1037\u001b[0m \u001b[1;33m\u001b[0m\u001b[0m\n\u001b[0;32m   1038\u001b[0m     \u001b[1;32mdef\u001b[0m \u001b[0mevaluate\u001b[0m\u001b[1;33m(\u001b[0m\u001b[0mself\u001b[0m\u001b[1;33m,\u001b[0m \u001b[0mx\u001b[0m\u001b[1;33m,\u001b[0m \u001b[0my\u001b[0m\u001b[1;33m,\u001b[0m \u001b[0mbatch_size\u001b[0m\u001b[1;33m=\u001b[0m\u001b[1;36m32\u001b[0m\u001b[1;33m,\u001b[0m \u001b[0mverbose\u001b[0m\u001b[1;33m=\u001b[0m\u001b[1;36m1\u001b[0m\u001b[1;33m,\u001b[0m \u001b[0msample_weight\u001b[0m\u001b[1;33m=\u001b[0m\u001b[0mNone\u001b[0m\u001b[1;33m)\u001b[0m\u001b[1;33m:\u001b[0m\u001b[1;33m\u001b[0m\u001b[0m\n",
      "\u001b[1;32mC:\\Users\\aelam_000\\Anaconda2\\lib\\site-packages\\keras\\engine\\training.pyc\u001b[0m in \u001b[0;36m_fit_loop\u001b[1;34m(self, f, ins, out_labels, batch_size, nb_epoch, verbose, callbacks, val_f, val_ins, shuffle, callback_metrics)\u001b[0m\n\u001b[0;32m    778\u001b[0m                     \u001b[0mbatch_logs\u001b[0m\u001b[1;33m[\u001b[0m\u001b[0ml\u001b[0m\u001b[1;33m]\u001b[0m \u001b[1;33m=\u001b[0m \u001b[0mo\u001b[0m\u001b[1;33m\u001b[0m\u001b[0m\n\u001b[0;32m    779\u001b[0m \u001b[1;33m\u001b[0m\u001b[0m\n\u001b[1;32m--> 780\u001b[1;33m                 \u001b[0mcallbacks\u001b[0m\u001b[1;33m.\u001b[0m\u001b[0mon_batch_end\u001b[0m\u001b[1;33m(\u001b[0m\u001b[0mbatch_index\u001b[0m\u001b[1;33m,\u001b[0m \u001b[0mbatch_logs\u001b[0m\u001b[1;33m)\u001b[0m\u001b[1;33m\u001b[0m\u001b[0m\n\u001b[0m\u001b[0;32m    781\u001b[0m \u001b[1;33m\u001b[0m\u001b[0m\n\u001b[0;32m    782\u001b[0m                 \u001b[0mepoch_logs\u001b[0m \u001b[1;33m=\u001b[0m \u001b[1;33m{\u001b[0m\u001b[1;33m}\u001b[0m\u001b[1;33m\u001b[0m\u001b[0m\n",
      "\u001b[1;32mC:\\Users\\aelam_000\\Anaconda2\\lib\\site-packages\\keras\\callbacks.pyc\u001b[0m in \u001b[0;36mon_batch_end\u001b[1;34m(self, batch, logs)\u001b[0m\n\u001b[0;32m     58\u001b[0m         \u001b[0mt_before_callbacks\u001b[0m \u001b[1;33m=\u001b[0m \u001b[0mtime\u001b[0m\u001b[1;33m.\u001b[0m\u001b[0mtime\u001b[0m\u001b[1;33m(\u001b[0m\u001b[1;33m)\u001b[0m\u001b[1;33m\u001b[0m\u001b[0m\n\u001b[0;32m     59\u001b[0m         \u001b[1;32mfor\u001b[0m \u001b[0mcallback\u001b[0m \u001b[1;32min\u001b[0m \u001b[0mself\u001b[0m\u001b[1;33m.\u001b[0m\u001b[0mcallbacks\u001b[0m\u001b[1;33m:\u001b[0m\u001b[1;33m\u001b[0m\u001b[0m\n\u001b[1;32m---> 60\u001b[1;33m             \u001b[0mcallback\u001b[0m\u001b[1;33m.\u001b[0m\u001b[0mon_batch_end\u001b[0m\u001b[1;33m(\u001b[0m\u001b[0mbatch\u001b[0m\u001b[1;33m,\u001b[0m \u001b[0mlogs\u001b[0m\u001b[1;33m)\u001b[0m\u001b[1;33m\u001b[0m\u001b[0m\n\u001b[0m\u001b[0;32m     61\u001b[0m         \u001b[0mself\u001b[0m\u001b[1;33m.\u001b[0m\u001b[0m_delta_ts_batch_end\u001b[0m\u001b[1;33m.\u001b[0m\u001b[0mappend\u001b[0m\u001b[1;33m(\u001b[0m\u001b[0mtime\u001b[0m\u001b[1;33m.\u001b[0m\u001b[0mtime\u001b[0m\u001b[1;33m(\u001b[0m\u001b[1;33m)\u001b[0m \u001b[1;33m-\u001b[0m \u001b[0mt_before_callbacks\u001b[0m\u001b[1;33m)\u001b[0m\u001b[1;33m\u001b[0m\u001b[0m\n\u001b[0;32m     62\u001b[0m         \u001b[0mdelta_t_median\u001b[0m \u001b[1;33m=\u001b[0m \u001b[0mnp\u001b[0m\u001b[1;33m.\u001b[0m\u001b[0mmedian\u001b[0m\u001b[1;33m(\u001b[0m\u001b[0mself\u001b[0m\u001b[1;33m.\u001b[0m\u001b[0m_delta_ts_batch_end\u001b[0m\u001b[1;33m)\u001b[0m\u001b[1;33m\u001b[0m\u001b[0m\n",
      "\u001b[1;32mC:\\Users\\aelam_000\\Anaconda2\\lib\\site-packages\\keras\\callbacks.pyc\u001b[0m in \u001b[0;36mon_batch_end\u001b[1;34m(self, batch, logs)\u001b[0m\n\u001b[0;32m    186\u001b[0m         \u001b[1;31m# will be handled by on_epoch_end\u001b[0m\u001b[1;33m\u001b[0m\u001b[1;33m\u001b[0m\u001b[0m\n\u001b[0;32m    187\u001b[0m         \u001b[1;32mif\u001b[0m \u001b[0mself\u001b[0m\u001b[1;33m.\u001b[0m\u001b[0mverbose\u001b[0m \u001b[1;32mand\u001b[0m \u001b[0mself\u001b[0m\u001b[1;33m.\u001b[0m\u001b[0mseen\u001b[0m \u001b[1;33m<\u001b[0m \u001b[0mself\u001b[0m\u001b[1;33m.\u001b[0m\u001b[0mparams\u001b[0m\u001b[1;33m[\u001b[0m\u001b[1;34m'nb_sample'\u001b[0m\u001b[1;33m]\u001b[0m\u001b[1;33m:\u001b[0m\u001b[1;33m\u001b[0m\u001b[0m\n\u001b[1;32m--> 188\u001b[1;33m             \u001b[0mself\u001b[0m\u001b[1;33m.\u001b[0m\u001b[0mprogbar\u001b[0m\u001b[1;33m.\u001b[0m\u001b[0mupdate\u001b[0m\u001b[1;33m(\u001b[0m\u001b[0mself\u001b[0m\u001b[1;33m.\u001b[0m\u001b[0mseen\u001b[0m\u001b[1;33m,\u001b[0m \u001b[0mself\u001b[0m\u001b[1;33m.\u001b[0m\u001b[0mlog_values\u001b[0m\u001b[1;33m)\u001b[0m\u001b[1;33m\u001b[0m\u001b[0m\n\u001b[0m\u001b[0;32m    189\u001b[0m \u001b[1;33m\u001b[0m\u001b[0m\n\u001b[0;32m    190\u001b[0m     \u001b[1;32mdef\u001b[0m \u001b[0mon_epoch_end\u001b[0m\u001b[1;33m(\u001b[0m\u001b[0mself\u001b[0m\u001b[1;33m,\u001b[0m \u001b[0mepoch\u001b[0m\u001b[1;33m,\u001b[0m \u001b[0mlogs\u001b[0m\u001b[1;33m=\u001b[0m\u001b[1;33m{\u001b[0m\u001b[1;33m}\u001b[0m\u001b[1;33m)\u001b[0m\u001b[1;33m:\u001b[0m\u001b[1;33m\u001b[0m\u001b[0m\n",
      "\u001b[1;32mC:\\Users\\aelam_000\\Anaconda2\\lib\\site-packages\\keras\\utils\\generic_utils.pyc\u001b[0m in \u001b[0;36mupdate\u001b[1;34m(self, current, values)\u001b[0m\n\u001b[0;32m     82\u001b[0m             \u001b[0mbar\u001b[0m \u001b[1;33m+=\u001b[0m \u001b[1;33m(\u001b[0m\u001b[1;34m'.'\u001b[0m \u001b[1;33m*\u001b[0m \u001b[1;33m(\u001b[0m\u001b[0mself\u001b[0m\u001b[1;33m.\u001b[0m\u001b[0mwidth\u001b[0m \u001b[1;33m-\u001b[0m \u001b[0mprog_width\u001b[0m\u001b[1;33m)\u001b[0m\u001b[1;33m)\u001b[0m\u001b[1;33m\u001b[0m\u001b[0m\n\u001b[0;32m     83\u001b[0m             \u001b[0mbar\u001b[0m \u001b[1;33m+=\u001b[0m \u001b[1;34m']'\u001b[0m\u001b[1;33m\u001b[0m\u001b[0m\n\u001b[1;32m---> 84\u001b[1;33m             \u001b[0msys\u001b[0m\u001b[1;33m.\u001b[0m\u001b[0mstdout\u001b[0m\u001b[1;33m.\u001b[0m\u001b[0mwrite\u001b[0m\u001b[1;33m(\u001b[0m\u001b[0mbar\u001b[0m\u001b[1;33m)\u001b[0m\u001b[1;33m\u001b[0m\u001b[0m\n\u001b[0m\u001b[0;32m     85\u001b[0m             \u001b[0mself\u001b[0m\u001b[1;33m.\u001b[0m\u001b[0mtotal_width\u001b[0m \u001b[1;33m=\u001b[0m \u001b[0mlen\u001b[0m\u001b[1;33m(\u001b[0m\u001b[0mbar\u001b[0m\u001b[1;33m)\u001b[0m\u001b[1;33m\u001b[0m\u001b[0m\n\u001b[0;32m     86\u001b[0m \u001b[1;33m\u001b[0m\u001b[0m\n",
      "\u001b[1;32mC:\\Users\\aelam_000\\Anaconda2\\lib\\site-packages\\ipykernel\\iostream.pyc\u001b[0m in \u001b[0;36mwrite\u001b[1;34m(self, string)\u001b[0m\n\u001b[0;32m    315\u001b[0m \u001b[1;33m\u001b[0m\u001b[0m\n\u001b[0;32m    316\u001b[0m             \u001b[0mis_child\u001b[0m \u001b[1;33m=\u001b[0m \u001b[1;33m(\u001b[0m\u001b[1;32mnot\u001b[0m \u001b[0mself\u001b[0m\u001b[1;33m.\u001b[0m\u001b[0m_is_master_process\u001b[0m\u001b[1;33m(\u001b[0m\u001b[1;33m)\u001b[0m\u001b[1;33m)\u001b[0m\u001b[1;33m\u001b[0m\u001b[0m\n\u001b[1;32m--> 317\u001b[1;33m             \u001b[0mself\u001b[0m\u001b[1;33m.\u001b[0m\u001b[0m_buffer\u001b[0m\u001b[1;33m.\u001b[0m\u001b[0mwrite\u001b[0m\u001b[1;33m(\u001b[0m\u001b[0mstring\u001b[0m\u001b[1;33m)\u001b[0m\u001b[1;33m\u001b[0m\u001b[0m\n\u001b[0m\u001b[0;32m    318\u001b[0m             \u001b[1;32mif\u001b[0m \u001b[0mis_child\u001b[0m\u001b[1;33m:\u001b[0m\u001b[1;33m\u001b[0m\u001b[0m\n\u001b[0;32m    319\u001b[0m                 \u001b[1;31m# newlines imply flush in subprocesses\u001b[0m\u001b[1;33m\u001b[0m\u001b[1;33m\u001b[0m\u001b[0m\n",
      "\u001b[1;31mValueError\u001b[0m: I/O operation on closed file"
     ],
     "output_type": "error"
    }
   ],
   "source": [
    "model = Sequential()\n",
    "# Dense(64) is a fully-connected layer with 64 hidden units.\n",
    "# in the first layer, you must specify the expected input data shape:\n",
    "# here, 20-dimensional vectors.\n",
    "model.add(Dense(200, input_dim=sourcematrix.shape[1], init='uniform'))\n",
    "model.add(Activation('relu'))\n",
    "model.add(Dropout(0.5))\n",
    "model.add(Dense(targetmatrix.shape[1], init='uniform'))\n",
    "model.add(Activation('relu'))\n",
    "sgd = SGD(lr=0.1, decay=1e-6)\n",
    "model.compile(loss='mean_squared_error',\n",
    "              optimizer=sgd)\n",
    "\n",
    "model.fit(sourcematrix, targetmatrix,\n",
    "          nb_epoch=5,\n",
    "          batch_size=16, verbose=1)"
   ]
  },
  {
   "cell_type": "code",
   "execution_count": 16,
   "metadata": {
    "collapsed": false
   },
   "outputs": [
    {
     "name": "stdout",
     "output_type": "stream",
     "text": [
      "loss: 0.475587342\n"
     ]
    }
   ],
   "source": [
    "final_source_matrix = r.predict(source_model.syn0)\n",
    "\n",
    "#test\n",
    "l = len(final_source_matrix)\n",
    "distances = np.zeros(l)\n",
    "losses = np.zeros(l-1)\n",
    "for i in xrange(l -1):\n",
    "    dist1 = distance.cosine(source_model.syn0[i],source_model.syn0[i+1])\n",
    "    dist2 = distance.cosine(final_source_matrix[i],final_source_matrix[i+1])\n",
    "    losses[i] = dist1 - dist2\n",
    "print 'loss:', losses.mean()"
   ]
  },
  {
   "cell_type": "code",
   "execution_count": 17,
   "metadata": {
    "collapsed": false
   },
   "outputs": [
    {
     "name": "stdout",
     "output_type": "stream",
     "text": [
      "end source\n",
      "end target\n"
     ]
    }
   ],
   "source": [
    "#save combined vectors\n",
    "with utils.smart_open(final_file, 'wb') as fout:\n",
    "    fout.write(utils.to_utf8(\"%s %s\\n\" % (source_model.syn0.shape[0]+target_model.syn0.shape[0],vector_size)))\n",
    "    for word, vocab in sorted(iteritems(source_model.vocab), key=lambda item: -item[1].count):\n",
    "        row = source_model.syn0[vocab.index]\n",
    "        fout.write(utils.to_utf8(word) + b\" \" + row.tostring())\n",
    "    print('end source')\n",
    "    for word, vocab in sorted(iteritems(target_model.vocab), key=lambda item: -item[1].count):\n",
    "        row = target_model.syn0[vocab.index]\n",
    "        fout.write(utils.to_utf8(word) + b\" \" + row.tostring())\n",
    "    print('end target')"
   ]
  }
 ],
 "metadata": {
  "kernelspec": {
   "display_name": "Python 2",
   "language": "python",
   "name": "python2"
  },
  "language_info": {
   "codemirror_mode": {
    "name": "ipython",
    "version": 2.0
   },
   "file_extension": ".py",
   "mimetype": "text/x-python",
   "name": "python",
   "nbconvert_exporter": "python",
   "pygments_lexer": "ipython2",
   "version": "2.7.11"
  }
 },
 "nbformat": 4,
 "nbformat_minor": 0
}