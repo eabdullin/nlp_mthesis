{
 "cells": [
  {
   "cell_type": "code",
   "execution_count": 1,
   "metadata": {},
   "outputs": [],
   "source": [
    "url_base = 'https://translate.yandex.net/api/v1.5/tr.json/translate'\n",
    "api_key =  \"trnsl.1.1.20160131T134129Z.551138fac8444143.d4d1893d45993c98d622f57494c87a805719cf86\""
   ]
  },
  {
   "cell_type": "code",
   "execution_count": null,
   "metadata": {},
   "outputs": [],
   "source": [
    ""
   ]
  }
 ],
 "metadata": {},
 "nbformat": 4,
 "nbformat_minor": 0
}