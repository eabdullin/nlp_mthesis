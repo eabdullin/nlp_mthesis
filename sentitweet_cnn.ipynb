{
 "cells": [
  {
   "cell_type": "code",
   "execution_count": 1,
   "metadata": {
    "collapsed": false
   },
   "outputs": [
    {
     "name": "stderr",
     "output_type": "stream",
     "text": [
      "Using Theano backend.\n"
     ]
    }
   ],
   "source": [
    "import numpy as np\n",
    "np.random.seed(1337)  # for reproducibility\n",
    "from keras.models import Sequential\n",
    "from keras.layers.core import Dense, Dropout, Activation, Flatten,Merge\n",
    "from keras.layers.embeddings import Embedding\n",
    "from keras.layers.convolutional import Convolution1D, MaxPooling1D\n",
    "import sklearn.cross_validation as valid\n",
    "import sklearn.metrics as metrics\n",
    "from keras.utils.visualize_util import plot"
   ]
  },
  {
   "cell_type": "code",
   "execution_count": 2,
   "metadata": {
    "collapsed": true
   },
   "outputs": [],
   "source": [
    "# set parameters:\n",
    "batch_size = 324\n",
    "word_vocub_len = 5000\n",
    "word_maxlen= 100\n",
    "char_vocub_len = 50\n",
    "batch_size = 32\n",
    "word_embedding_dims = 200\n",
    "nb_filter = 250\n",
    "filter_length = 3\n",
    "hidden_dims = 250\n",
    "nb_epoch = 2"
   ]
  },
  {
   "cell_type": "code",
   "execution_count": 3,
   "metadata": {
    "collapsed": false
   },
   "outputs": [
    {
     "name": "stdout",
     "output_type": "stream",
     "text": [
      "start compile\n",
      "model compilled\n"
     ]
    }
   ],
   "source": [
    "#build a model\n",
    "\n",
    "#first add a word-level convolutional model\n",
    "word_cnn = Sequential()\n",
    "# we start off with an efficient embedding layer which maps\n",
    "# our vocab indices into embedding_dims dimensions\n",
    "word_cnn.add(Embedding(word_vocub_len, word_embedding_dims, input_length=word_maxlen))\n",
    "word_cnn.add(Dropout(0.25))\n",
    "\n",
    "# add a Convolution1D, which will learn nb_filter\n",
    "# word group filters of size filter_length:\n",
    "word_cnn.add(Convolution1D(nb_filter=nb_filter,\n",
    "                        filter_length=filter_length,\n",
    "                        border_mode='valid',\n",
    "                        activation='relu',\n",
    "                        subsample_length=1))\n",
    "# we use standard max pooling (halving the output of the previous layer):\n",
    "word_cnn.add(MaxPooling1D(pool_length=2))\n",
    "# We flatten the output of the conv layer,\n",
    "# so that we can add a vanilla dense layer:\n",
    "word_cnn.add(Flatten())\n",
    "word_cnn.add(Dense(250))\n",
    "word_cnn.add(Dropout(0.5))\n",
    "\n",
    "#then add char-level convolutional model\n",
    "char_cnn = Sequential()\n",
    "# we add a Convolution1D, which will learn nb_filter\n",
    "# word group filters of size filter_length:\n",
    "char_cnn.add(Convolution1D(nb_filter=nb_filter,\n",
    "                        filter_length=filter_length,\n",
    "                        border_mode='valid',\n",
    "                        activation='relu',\n",
    "                        subsample_length=1,\n",
    "                           input_shape=(char_vocub_len,1)))\n",
    "# we use standard max pooling (halving the output of the previous layer):\n",
    "char_cnn.add(MaxPooling1D(pool_length=3))\n",
    "\n",
    "# We flatten the output of the conv layer,\n",
    "# so that we can add a vanilla dense layer:\n",
    "char_cnn.add(Flatten())\n",
    "char_cnn.add(Dense(250))\n",
    "char_cnn.add(Dropout(0.5))\n",
    "\n",
    "#then merge these layer into one model with several classification layers\n",
    "model = Sequential()\n",
    "model.add(Merge([word_cnn, char_cnn], mode='sum'))\n",
    "# We add a vanilla hidden layer:\n",
    "model.add(Dense(hidden_dims))\n",
    "model.add(Dropout(0.25))\n",
    "model.add(Activation('relu'))\n",
    "\n",
    "# We project onto a single unit output layer, and squash it with a sigmoid:\n",
    "model.add(Dense(1))\n",
    "model.add(Activation('sigmoid'))\n",
    "print('start compile')\n",
    "model.compile(loss='binary_crossentropy',\n",
    "              optimizer='adadelta')\n",
    "print('model compilled')"
   ]
  },
  {
   "cell_type": "code",
   "execution_count": null,
   "metadata": {
    "collapsed": true
   },
   "outputs": [],
   "source": [
    "#further lets prepare data"
   ]
  }
 ],
 "metadata": {
  "kernelspec": {
   "display_name": "Python 2",
   "language": "python",
   "name": "python2"
  },
  "language_info": {
   "codemirror_mode": {
    "name": "ipython",
    "version": 2
   },
   "file_extension": ".py",
   "mimetype": "text/x-python",
   "name": "python",
   "nbconvert_exporter": "python",
   "pygments_lexer": "ipython2",
   "version": "2.7.11"
  }
 },
 "nbformat": 4,
 "nbformat_minor": 0
}
